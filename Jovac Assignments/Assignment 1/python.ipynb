{
 "cells": [
  {
   "cell_type": "markdown",
   "id": "712fc684",
   "metadata": {},
   "source": [
    "\n",
    "### 1. Make a custom exception\n"
   ]
  },
  {
   "cell_type": "code",
   "execution_count": 2,
   "id": "10150758",
   "metadata": {},
   "outputs": [
    {
     "name": "stdout",
     "output_type": "stream",
     "text": [
      "Caught Custom Exception: Division by zero is not allowed!\n"
     ]
    }
   ],
   "source": [
    "class ZeroDivisorError(Exception):\n",
    "    pass\n",
    "\n",
    "num = int(input(\"Enter a divisor: \"))\n",
    "\n",
    "try:\n",
    "    if num == 0:\n",
    "        raise ZeroDivisorError(\"Division by zero is not allowed!\")\n",
    "    print(\"100 divided by\", num, \"is\", 100 / num)\n",
    "except ZeroDivisorError as e:\n",
    "    print(\"Caught Custom Exception:\", e)\n"
   ]
  },
  {
   "cell_type": "markdown",
   "id": "beb82d4f",
   "metadata": {},
   "source": [
    "### 2. Make a 2-d array and read and write it in a csv format\n"
   ]
  },
  {
   "cell_type": "code",
   "execution_count": null,
   "id": "0db88d58",
   "metadata": {},
   "outputs": [
    {
     "name": "stdout",
     "output_type": "stream",
     "text": [
      "2D Array read from uploaded CSV file:\n",
      "[[ 10  20  30  40]\n",
      " [ 50  60  70  80]\n",
      " [ 90 100 110 120]\n",
      " [  0   1   2   3]]\n"
     ]
    }
   ],
   "source": [
    "import numpy as np\n",
    "import csv\n",
    "\n",
    "with open(\"Array.csv\", \"r\") as file:\n",
    "    reader = csv.reader(file)\n",
    "    loaded_array = np.array([[int(value) for value in row] for row in reader])\n",
    "\n",
    "print(\"2D Array read from uploaded CSV file:\")\n",
    "print(loaded_array)\n"
   ]
  },
  {
   "cell_type": "code",
   "execution_count": null,
   "id": "e3c282ab",
   "metadata": {},
   "outputs": [],
   "source": []
  }
 ],
 "metadata": {
  "kernelspec": {
   "display_name": "base",
   "language": "python",
   "name": "python3"
  },
  "language_info": {
   "codemirror_mode": {
    "name": "ipython",
    "version": 3
   },
   "file_extension": ".py",
   "mimetype": "text/x-python",
   "name": "python",
   "nbconvert_exporter": "python",
   "pygments_lexer": "ipython3",
   "version": "3.9.12"
  }
 },
 "nbformat": 4,
 "nbformat_minor": 5
}
