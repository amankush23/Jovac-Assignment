{
 "cells": [
  {
   "cell_type": "code",
   "execution_count": 104,
   "id": "ef6eede2",
   "metadata": {},
   "outputs": [],
   "source": [
    "import numpy as np\n",
    "import pandas as pd"
   ]
  },
  {
   "cell_type": "markdown",
   "id": "bc6f225d",
   "metadata": {},
   "source": [
    "### Task 1: Creating Arrays \n",
    "1. Write a Python program to:  \n",
    "- Create a 1D NumPy array of 10 integers ranging from 1 to 10. \n",
    "- Create a 2D NumPy array of shape (3, 3) with integers from 1 \n",
    "to 9. \n",
    "- Create a 3D NumPy array with random floating-point numbers \n",
    "of shape (3, 5, 3). \n",
    "2. Display the shape, size, and datatype of each array. "
   ]
  },
  {
   "cell_type": "code",
   "execution_count": 1,
   "id": "41f487bf",
   "metadata": {},
   "outputs": [
    {
     "name": "stdout",
     "output_type": "stream",
     "text": [
      "[ 1  2  3  4  5  6  7  8  9 10] <class 'numpy.ndarray'> (10,) 10 int64\n",
      "[[2 6 1]\n",
      " [4 7 4]\n",
      " [8 6 8]] <class 'numpy.ndarray'> (3, 3) 9 int32\n",
      "[[[1.62724402e-01 1.32160221e-01 8.85680180e-01]\n",
      "  [6.29131580e-01 9.62359995e-01 9.00638808e-01]\n",
      "  [3.62944130e-01 9.91377256e-01 9.70689149e-01]\n",
      "  [2.72705930e-01 9.79638349e-01 3.40913577e-01]\n",
      "  [9.19021076e-01 4.54187325e-01 4.82803165e-01]]\n",
      "\n",
      " [[2.66669367e-03 7.45848478e-01 6.01198131e-01]\n",
      "  [8.66818576e-01 2.69585308e-01 8.17749277e-01]\n",
      "  [9.07264923e-01 9.92558691e-01 5.34640782e-01]\n",
      "  [4.51350784e-01 1.31031078e-01 6.59233809e-01]\n",
      "  [1.98165853e-01 1.17842798e-01 9.51610917e-01]]\n",
      "\n",
      " [[1.81140206e-01 6.77293872e-01 2.16026413e-01]\n",
      "  [3.55708537e-01 9.79631934e-01 4.13383837e-04]\n",
      "  [7.33148178e-01 1.43401640e-01 2.72874696e-01]\n",
      "  [7.18807450e-01 5.56482454e-01 2.47304324e-01]\n",
      "  [8.60948223e-01 4.40134394e-01 3.25028496e-01]]] <class 'numpy.ndarray'> (3, 5, 3) 45 float64\n"
     ]
    }
   ],
   "source": [
    "import numpy as np\n",
    "\n",
    "OneD = np.arange(1, 11)\n",
    "print(OneD, type(OneD), OneD.shape, OneD.size, OneD.dtype)\n",
    "\n",
    "TwoD = np.random.randint(1, 10, size=(3, 3))\n",
    "print(TwoD, type(TwoD), TwoD.shape, TwoD.size, TwoD.dtype)\n",
    "\n",
    "ThreeD = np.random.rand(3, 5, 3)\n",
    "print(ThreeD, type(ThreeD), ThreeD.shape, ThreeD.size, ThreeD.dtype)\n"
   ]
  },
  {
   "cell_type": "markdown",
   "id": "ea96a8e4",
   "metadata": {},
   "source": [
    "### Task 2: Array Indexing and Slicing \n",
    "1. Create a NumPy array from the following list:  \n",
    "data = [10, 20, 30, 40, 50, 60, 70, 80, 90] \n",
    "2. Write a Python program to:  \n",
    "- Retrieve the first three elements of the array. \n",
    "- Retrieve every alternate element of the array. \n",
    "- Reverse the array. \n",
    "3. Perform the above operations and display the results."
   ]
  },
  {
   "cell_type": "code",
   "execution_count": 3,
   "id": "2040fd51",
   "metadata": {},
   "outputs": [
    {
     "name": "stdout",
     "output_type": "stream",
     "text": [
      "[10 20 30 40 50 60 70 80 90] <class 'numpy.ndarray'>\n",
      "[10 20 30]\n",
      "[10 30 50 70 90]\n",
      "[90 80 70 60 50 40 30 20 10]\n"
     ]
    }
   ],
   "source": [
    "values = [10, 20, 30, 40, 50, 60, 70, 80, 90]\n",
    "array = np.array(values)\n",
    "print(array, type(array))\n",
    "\n",
    "print(array[:3])\n",
    "print(array[::2])\n",
    "print(array[::-1])\n"
   ]
  },
  {
   "cell_type": "markdown",
   "id": "55c95785",
   "metadata": {},
   "source": [
    "### Task 3: Mathematical Operations \n",
    "1. Create two NumPy arrays, A and B, each with 5 random integers \n",
    "between 1 and 20. \n",
    "2. Write a Python program to:  \n",
    "- Add, subtract, multiply, and divide the two arrays element\n",
    "wise. \n",
    "- Compute the dot product of the arrays. \n",
    "- Find the mean, median, standard deviation, and variance of \n",
    "array A. \n",
    "- Identify the maximum and minimum values in array B and \n",
    "their indices."
   ]
  },
  {
   "cell_type": "code",
   "execution_count": 4,
   "id": "c17b50f8",
   "metadata": {},
   "outputs": [
    {
     "name": "stdout",
     "output_type": "stream",
     "text": [
      "Add :  [14 12  6 20 23]\n",
      "Sub :  [  4   8   0   0 -13]\n",
      "Mul :  [ 45  20   9 100  90]\n",
      "Div :  [1.8        5.         1.         1.         0.27777778]\n",
      "Dot  264\n",
      "Mean :  7.4\n",
      "median :  9.0\n",
      "SD 2.87\n",
      "Var : 8.24\n",
      "Min Element :  2\n",
      "Min Element index:  1\n",
      "Max Element :  18\n",
      "Max Element index:  4\n"
     ]
    }
   ],
   "source": [
    "A = np.random.randint(1, 20, size=(5))\n",
    "B = np.random.randint(1, 20, size=(5))\n",
    "\n",
    "Add = A + B\n",
    "print('Add : ',Add)\n",
    "\n",
    "subtract = A - B\n",
    "print('Sub : ',subtract)\n",
    "\n",
    "mul = A * B\n",
    "print('Mul : ',mul)\n",
    "\n",
    "divide = A / B\n",
    "print('Div : ',divide)\n",
    "\n",
    "dotPro = np.dot(A, B)\n",
    "print('Dot ', dotPro)\n",
    "\n",
    "mean = A.mean()\n",
    "print('Mean : ',mean)\n",
    "\n",
    "median = np.median(A)\n",
    "print('median : ',median)\n",
    "\n",
    "stdDev = np.std(A)\n",
    "print(f\"SD {stdDev:.2f}\")\n",
    "\n",
    "\n",
    "variance = stdDev ** 2\n",
    "print(f\"Var : {variance:.2f}\")\n",
    "\n",
    "\n",
    "\n",
    "print(\"Min Element : \", np.min(B))\n",
    "print(\"Min Element index: \", np.argmin(B))\n",
    "\n",
    "print(\"Max Element : \", np.max(B))\n",
    "print(\"Max Element index: \",  np.argmax(B))\n",
    "\n",
    "\n"
   ]
  },
  {
   "cell_type": "markdown",
   "id": "674ea85c",
   "metadata": {},
   "source": [
    "### Task 4: Reshaping and Transposing \n",
    "1. Create a 1D NumPy array of 12 integers ranging from 1 to 12. \n",
    "2. Write a Python program to:  \n",
    "- Reshape the array into a 2D array of shape (4, 3). \n",
    "- Reshape the array into a 3D array of shape (2, 2, 3). \n",
    "- Transpose the reshaped 2D array and display its shape."
   ]
  },
  {
   "cell_type": "code",
   "execution_count": 5,
   "id": "11cf674f",
   "metadata": {},
   "outputs": [
    {
     "name": "stdout",
     "output_type": "stream",
     "text": [
      "[ 1  2  3  4  5  6  7  8  9 10 11 12] <class 'numpy.ndarray'>\n",
      "[[ 1  2  3]\n",
      " [ 4  5  6]\n",
      " [ 7  8  9]\n",
      " [10 11 12]]\n",
      "[[[ 1  2  3]\n",
      "  [ 4  5  6]]\n",
      "\n",
      " [[ 7  8  9]\n",
      "  [10 11 12]]]\n",
      "(3, 4)\n"
     ]
    }
   ],
   "source": [
    "n1 = np.arange(1, 13)\n",
    "print(n1, type(n1))\n",
    "print(n1.reshape(4,3))\n",
    "print( n1.reshape(2,2,3))\n",
    "Two_D = n1.reshape(4,3)\n",
    "transpose2D = Two_D.transpose()\n",
    "print(transpose2D.shape)\n"
   ]
  },
  {
   "cell_type": "markdown",
   "id": "b51ac217",
   "metadata": {},
   "source": [
    "### Task 5: Boolean Masking and Filtering \n",
    "1. Create a NumPy array with 15 random integers between 10 and 50. \n",
    "2. Write a Python program to:  \n",
    "- Find all elements greater than 25. \n",
    "- Replace all elements less than 30 with 0. \n",
    "- Count the number of elements divisible by 5. \n"
   ]
  },
  {
   "cell_type": "code",
   "execution_count": 6,
   "id": "6ba2a84b",
   "metadata": {},
   "outputs": [
    {
     "name": "stdout",
     "output_type": "stream",
     "text": [
      "[46 22 18 17 13 39 48 21 42 16 18 41 49 19 36]\n",
      "[46 39 48 42 41 49 36]\n",
      "[46  0  0  0  0 39 48  0 42  0  0 41 49  0 36]\n",
      "8\n"
     ]
    }
   ],
   "source": [
    "a = np.random.randint(10, 50, 15)\n",
    "print(a)\n",
    "\n",
    "b = a[a > 25]\n",
    "print(b)\n",
    "\n",
    "a[a < 30] = 0\n",
    "print(a)\n",
    "\n",
    "c = a[a % 5 == 0]\n",
    "d = len(c)\n",
    "print(d)\n"
   ]
  },
  {
   "cell_type": "markdown",
   "id": "7fa0b63c",
   "metadata": {},
   "source": [
    "### Task 6: Working with Built-in Functions \n",
    "#### 1. Use NumPy's built-in functions to:  \n",
    "- Create an array of 10 equally spaced values between 0 and 1. \n",
    "- Create an identity matrix of size 4x4. \n",
    "- Generate a 1D array of 20 random integers between 1 and 100, \n",
    "sort it, and find the 5 largest elements. \n"
   ]
  },
  {
   "cell_type": "code",
   "execution_count": 7,
   "id": "6dd82de9",
   "metadata": {},
   "outputs": [
    {
     "name": "stdout",
     "output_type": "stream",
     "text": [
      "[0.         0.11111111 0.22222222 0.33333333 0.44444444 0.55555556\n",
      " 0.66666667 0.77777778 0.88888889 1.        ]\n",
      "Identity Matrix\n",
      "[[1 0 0 0]\n",
      " [0 1 0 0]\n",
      " [0 0 1 0]\n",
      " [0 0 0 1]]\n",
      "Original Array :  [28 31 87 22 39 16 53 41 28 31 90 34 34 83 64 55 44 63 39 70]\n",
      "Sorted Array :  [16 22 28 28 31 31 34 34 39 39 41 44 53 55 63 64 70 83 87 90]\n",
      "Largest 5 elements:  [64 70 83 87 90]\n"
     ]
    }
   ],
   "source": [
    "arr = np.linspace(0,1,10)\n",
    "print(arr)\n",
    "\n",
    "\n",
    "print('Identity Matrix')\n",
    "print(np.eye(4, dtype=int))\n",
    "\n",
    "OneD = np.random.randint(1, 100, 20)\n",
    "print(\"Original Array : \",OneD)\n",
    "\n",
    "sortArr = np.sort(OneD)\n",
    "print(\"Sorted Array : \",sortArr)\n",
    "\n",
    "print(\"Largest 5 elements: \",sortArr[-5:])\n",
    "\n",
    "\n",
    "\n"
   ]
  },
  {
   "cell_type": "markdown",
   "id": "8249f9e8",
   "metadata": {},
   "source": [
    "\n",
    "\n",
    "### Task 7: Generic \n",
    "#### 1. Create a Python program that:  \n",
    "- Generates two large random arrays of size (100, 100). \n",
    "- Performs matrix multiplication on the two arrays. \n",
    "- Finds the determinant and inverse of the resulting matrix (if \n",
    "possible). \n",
    "- Measures the time taken to complete these operations. \n"
   ]
  },
  {
   "cell_type": "code",
   "execution_count": 8,
   "id": "905eba1d",
   "metadata": {},
   "outputs": [
    {
     "name": "stdout",
     "output_type": "stream",
     "text": [
      "mult done\n",
      "det: 8.911400010494252e+49\n",
      "inv done\n",
      "time: 0.061 sec\n"
     ]
    }
   ],
   "source": [
    "import numpy as np\n",
    "import time\n",
    "\n",
    "start = time.time()\n",
    "\n",
    "a = np.random.rand(100, 100)\n",
    "b = np.random.rand(100, 100)\n",
    "\n",
    "c = np.dot(a, b)\n",
    "print(\"mult done\")\n",
    "\n",
    "try:\n",
    "    d = np.linalg.det(c)\n",
    "    print(\"det:\", d)\n",
    "\n",
    "    i = np.linalg.inv(c)\n",
    "    print(\"inv done\")\n",
    "except np.linalg.LinAlgError:\n",
    "    print(\"inv fail\")\n",
    "\n",
    "end = time.time()\n",
    "print(\"time:\", round(end - start, 4), \"sec\")\n"
   ]
  },
  {
   "cell_type": "code",
   "execution_count": null,
   "id": "1ae4a588",
   "metadata": {},
   "outputs": [],
   "source": []
  }
 ],
 "metadata": {
  "kernelspec": {
   "display_name": "base",
   "language": "python",
   "name": "python3"
  },
  "language_info": {
   "codemirror_mode": {
    "name": "ipython",
    "version": 3
   },
   "file_extension": ".py",
   "mimetype": "text/x-python",
   "name": "python",
   "nbconvert_exporter": "python",
   "pygments_lexer": "ipython3",
   "version": "3.9.12"
  }
 },
 "nbformat": 4,
 "nbformat_minor": 5
}
