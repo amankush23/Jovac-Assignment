{
 "cells": [
  {
   "cell_type": "code",
   "execution_count": 45,
   "id": "04e7e7e9",
   "metadata": {},
   "outputs": [],
   "source": [
    "import numpy as np\n",
    "import pandas as pd"
   ]
  },
  {
   "cell_type": "markdown",
   "id": "62f9a1ba",
   "metadata": {},
   "source": [
    "# Assignment Tasks \n",
    "### Task 1: Working with Series \n",
    "1. Create a Pandas Series from the following list:  \n",
    "data = [25, 30, 35, 40, 45] \n",
    "2. Write a Python program to:  \n",
    "- Assign custom indices  to the Series. \n",
    "- Display the first three elements of the Series. \n",
    "- Calculate the mean, median, and standard deviation of the \n",
    "Series."
   ]
  },
  {
   "cell_type": "code",
   "execution_count": 2,
   "id": "bad9b095",
   "metadata": {},
   "outputs": [
    {
     "name": "stdout",
     "output_type": "stream",
     "text": [
      "1    25\n",
      "2    30\n",
      "3    35\n",
      "dtype: int64\n",
      "\n",
      "Mean: 35.0\n",
      "Median: 35.0\n",
      "Standard Deviation: 7.905694150420948\n"
     ]
    }
   ],
   "source": [
    "import pandas as pd\n",
    "\n",
    "data = [25, 30, 35, 40, 45]\n",
    "series = pd.Series(data, index=['1', '2', '3', '4', '5'])\n",
    "\n",
    "print(series.head(3))\n",
    "\n",
    "print(\"\\nMean:\", series.mean())\n",
    "print(\"Median:\", series.median())\n",
    "print(\"Standard Deviation:\", series.std())\n"
   ]
  },
  {
   "cell_type": "markdown",
   "id": "e1565809",
   "metadata": {},
   "source": [
    "### Task 2: Creating and Inspecting DataFrames \n",
    "1. Create a Pandas DataFrame with the following data: \n",
    "#### Student Data\n",
    "\n",
    "| Name  | Age | Gender | Marks |\n",
    "|-------|-----|--------|-------|\n",
    "| Alice | 20  | Female | 85    |\n",
    "| Bob   | 22  | Male   | 78    |\n",
    "| Carol | 19  | Female | 92    |\n",
    "| David | 21  | Male   | 74    |\n",
    "| Eve   | 20  | Female | 88    |\n",
    "\n",
    "2. Write a Python program to: \n",
    "- Display the first two rows of the DataFrame. \n",
    "- Display the column names, data types, and summary statistics. \n",
    "- Add a new column Passed that contains True if Marks >= 80 \n",
    "and False otherwise. "
   ]
  },
  {
   "cell_type": "code",
   "execution_count": 3,
   "id": "4bf213f6",
   "metadata": {},
   "outputs": [
    {
     "name": "stdout",
     "output_type": "stream",
     "text": [
      "    Name  Age  Gender  Marks\n",
      "0  Alice   20  Female     85\n",
      "1    Bob   22    Male     78\n",
      "\\ Column Names:\n",
      "['Name', 'Age', 'Gender', 'Marks']\n",
      " Data Types:\n",
      "Name      object\n",
      "Age        int64\n",
      "Gender    object\n",
      "Marks      int64\n",
      "dtype: object\n",
      "Summary Statistics:\n",
      "             Age      Marks\n",
      "count   5.000000   5.000000\n",
      "mean   20.400000  83.400000\n",
      "std     1.140175   7.334848\n",
      "min    19.000000  74.000000\n",
      "25%    20.000000  78.000000\n",
      "50%    20.000000  85.000000\n",
      "75%    21.000000  88.000000\n",
      "max    22.000000  92.000000\n",
      " DataFrame with 'Passed' Column:\n",
      "    Name  Age  Gender  Marks  Passed\n",
      "0  Alice   20  Female     85    True\n",
      "1    Bob   22    Male     78   False\n",
      "2  Carol   19  Female     92    True\n",
      "3  David   21    Male     74   False\n",
      "4    Eve   20  Female     88    True\n"
     ]
    }
   ],
   "source": [
    " \n",
    "data = {\n",
    "    'Name': ['Alice', 'Bob', 'Carol', 'David', 'Eve'],\n",
    "    'Age': [20, 22, 19, 21, 20],\n",
    "    'Gender': ['Female', 'Male', 'Female', 'Male', 'Female'],\n",
    "    'Marks': [85, 78, 92, 74, 88]\n",
    "}\n",
    "\n",
    "df = pd.DataFrame(data)\n",
    "\n",
    " \n",
    "\n",
    "print(df.head(2))\n",
    "print(\"\\ Column Names:\")\n",
    "print(df.columns.tolist())\n",
    "\n",
    "print(\" Data Types:\")\n",
    "print(df.dtypes)\n",
    "\n",
    "\n",
    "print(\"Summary Statistics:\")\n",
    "print(df.describe())\n",
    "\n",
    "df['Passed'] = df['Marks'] >= 80\n",
    "\n",
    "print(\" DataFrame with 'Passed' Column:\")\n",
    "print(df)\n"
   ]
  },
  {
   "cell_type": "markdown",
   "id": "fceceb63",
   "metadata": {},
   "source": [
    "### Task 3: Data Selection and Filtering \n",
    "1. Using the DataFrame from Task 2, write a Python program to:  \n",
    "- Select and display the Name and Marks columns. \n",
    "- Filter and display records where Marks > 80. \n",
    "- Display the record of the student with the highest marks."
   ]
  },
  {
   "cell_type": "code",
   "execution_count": 4,
   "id": "06cf1b45",
   "metadata": {},
   "outputs": [
    {
     "name": "stdout",
     "output_type": "stream",
     "text": [
      "Name and Marks columns:\n",
      "    Name  Marks\n",
      "0  Alice     85\n",
      "1    Bob     78\n",
      "2  Carol     92\n",
      "3  David     74\n",
      "4    Eve     88\n",
      "\n",
      "Students with Marks > 80:\n",
      "    Name  Age  Gender  Marks  Passed\n",
      "0  Alice   20  Female     85    True\n",
      "2  Carol   19  Female     92    True\n",
      "4    Eve   20  Female     88    True\n",
      "\n",
      "Student with Highest Marks:\n",
      "    Name  Age  Gender  Marks  Passed\n",
      "2  Carol   19  Female     92    True\n"
     ]
    }
   ],
   "source": [
    "print(\"Name and Marks columns:\")\n",
    "print(df[['Name', 'Marks']])\n",
    "\n",
    "print(\"\\nStudents with Marks > 80:\")\n",
    "print(df[df['Marks'] > 80])\n",
    "\n",
    "print(\"\\nStudent with Highest Marks:\")\n",
    "print(df[df['Marks'] == df['Marks'].max()])\n"
   ]
  },
  {
   "cell_type": "markdown",
   "id": "694ef951",
   "metadata": {},
   "source": [
    "### Task 4: Handling Missing Data \n",
    "1. Modify the DataFrame from Task 2 by introducing missing values:  \n",
    "2. df.loc[1, 'Marks'] = None \n",
    "3. df.loc[4, 'Age'] = None \n",
    "4. Write a Python program to:  \n",
    "- Identify missing values in the DataFrame. \n",
    "- Fill missing values in the Marks column with the column's \n",
    "mean. \n",
    "- Drop rows where the Age column has missing values."
   ]
  },
  {
   "cell_type": "code",
   "execution_count": 10,
   "id": "6ffd9f79",
   "metadata": {},
   "outputs": [
    {
     "name": "stdout",
     "output_type": "stream",
     "text": [
      "Missing Values:\n",
      "    Name    Age  Gender  Marks  Passed\n",
      "0  False  False   False  False   False\n",
      "1  False  False   False   True   False\n",
      "2  False  False   False  False   False\n",
      "3  False  False   False  False   False\n",
      "4   True   True    True   True    True\n",
      "\n",
      "Data after filling and dropping:\n",
      "     Name   Age  Gender      Marks Passed\n",
      "0  Alice  20.0  Female  85.000000   True\n",
      "1    Bob  22.0    Male  83.666667  False\n",
      "2  Carol  19.0  Female  92.000000   True\n",
      "3  David  21.0    Male  74.000000  False\n"
     ]
    },
    {
     "name": "stderr",
     "output_type": "stream",
     "text": [
      "C:\\Users\\ASUS1\\AppData\\Local\\Temp\\ipykernel_23236\\3104510668.py:7: FutureWarning: A value is trying to be set on a copy of a DataFrame or Series through chained assignment using an inplace method.\n",
      "The behavior will change in pandas 3.0. This inplace method will never work because the intermediate object on which we are setting values always behaves as a copy.\n",
      "\n",
      "For example, when doing 'df[col].method(value, inplace=True)', try using 'df.method({col: value}, inplace=True)' or df[col] = df[col].method(value) instead, to perform the operation inplace on the original object.\n",
      "\n",
      "\n",
      "  df['Marks'].fillna(df['Marks'].mean(), inplace=True)\n"
     ]
    }
   ],
   "source": [
    "df.loc[1, 'Marks'] = None\n",
    "df.loc[4, 'Age'] = None\n",
    "\n",
    "print(\"Missing Values:\")\n",
    "print(df.isnull())\n",
    "\n",
    "df['Marks'].fillna(df['Marks'].mean(), inplace=True)\n",
    "df = df.dropna(subset=['Age'])\n",
    "\n",
    "print(\"\\nData after filling and dropping:\\n\", df)\n"
   ]
  },
  {
   "cell_type": "markdown",
   "id": "cec42fe1",
   "metadata": {},
   "source": [
    "### Task 5: Grouping and Aggregation \n",
    "1. Using the DataFrame from Task 2, write a Python program to:  \n",
    "- Group the data by Gender and calculate the mean age and \n",
    "marks for each gender. \n",
    "- Count the number of students in each gender group. "
   ]
  },
  {
   "cell_type": "code",
   "execution_count": 11,
   "id": "096a1699",
   "metadata": {},
   "outputs": [
    {
     "name": "stdout",
     "output_type": "stream",
     "text": [
      "         Age      Marks\n",
      "Gender                 \n",
      "Female  19.5  88.500000\n",
      "Male    21.5  78.833333\n",
      "Gender\n",
      "Female    2\n",
      "Male      2\n",
      "Name: count, dtype: int64\n"
     ]
    }
   ],
   "source": [
    "grouped = df.groupby('Gender')[['Age', 'Marks']].mean()\n",
    "print( grouped)\n",
    "\n",
    "gender_count = df['Gender'].value_counts()\n",
    "print( gender_count)\n"
   ]
  },
  {
   "cell_type": "markdown",
   "id": "06d0abdf",
   "metadata": {},
   "source": [
    "### Task 6: Reading and Writing Data \n",
    "1. Write a Python program to:  \n",
    "- Save the modified DataFrame from Task 4 to a CSV file named \n",
    "students_data.csv. \n",
    "- Read the CSV file into a new DataFrame. \n",
    "- Display the first five rows of the newly loaded DataFrame. "
   ]
  },
  {
   "cell_type": "code",
   "execution_count": null,
   "id": "ac01d885",
   "metadata": {},
   "outputs": [
    {
     "name": "stdout",
     "output_type": "stream",
     "text": [
      "CSV file saved successfully\n",
      "Data read!!\n",
      "First Five Rows\n",
      "    Name   Age  Gender      Marks  Passed\n",
      "0  Alice  20.0  Female  85.000000    True\n",
      "1    Bob  22.0    Male  83.666667   False\n",
      "2  Carol  19.0  Female  92.000000    True\n",
      "3  David  21.0    Male  74.000000   False\n"
     ]
    }
   ],
   "source": [
    " \n",
    "df.to_csv(\"students_data.csv\", index=False)\n",
    "print(\"CSV file saved successfully\")\n",
    "\n",
    "readData = pd.read_csv(\"students_data.csv\")\n",
    "print(\"Data read!!\")\n",
    "print(readData.head())\n",
    "\n"
   ]
  },
  {
   "cell_type": "markdown",
   "id": "848a9a74",
   "metadata": {},
   "source": [
    "### Task 7: General \n",
    "1. Download a sample dataset from Kaggle or use any public dataset. \n",
    "2. Write a Python program to:  \n",
    "- Load the dataset using Pandas. \n",
    "- Perform exploratory data analysis (EDA) by summarizing key \n",
    "statistics, checking for missing values, and visualizing data \n",
    "trends using Matplotlib or Seaborn. \n",
    "- Document your findings in Markdown or comments. "
   ]
  },
  {
   "cell_type": "code",
   "execution_count": 14,
   "id": "348f17a5",
   "metadata": {},
   "outputs": [
    {
     "name": "stdout",
     "output_type": "stream",
     "text": [
      "Dataset loaded successfully.\n",
      "\n",
      "   sepal_length  sepal_width  petal_length  petal_width species\n",
      "0           5.1          3.5           1.4          0.2  setosa\n",
      "1           4.9          3.0           1.4          0.2  setosa\n",
      "2           4.7          3.2           1.3          0.2  setosa\n",
      "3           4.6          3.1           1.5          0.2  setosa\n",
      "4           5.0          3.6           1.4          0.2  setosa\n",
      "       sepal_length  sepal_width  petal_length  petal_width\n",
      "count    150.000000   150.000000    150.000000   150.000000\n",
      "mean       5.843333     3.057333      3.758000     1.199333\n",
      "std        0.828066     0.435866      1.765298     0.762238\n",
      "min        4.300000     2.000000      1.000000     0.100000\n",
      "25%        5.100000     2.800000      1.600000     0.300000\n",
      "50%        5.800000     3.000000      4.350000     1.300000\n",
      "75%        6.400000     3.300000      5.100000     1.800000\n",
      "max        7.900000     4.400000      6.900000     2.500000\n",
      "sepal_length    0\n",
      "sepal_width     0\n",
      "petal_length    0\n",
      "petal_width     0\n",
      "species         0\n",
      "dtype: int64\n"
     ]
    },
    {
     "data": {
      "image/png": "[encoded data removed]",
      "text/plain": [
       "<Figure size 640x480 with 1 Axes>"
      ]
     },
     "metadata": {},
     "output_type": "display_data"
    }
   ],
   "source": [
    "import pandas as pd\n",
    "import seaborn as sns\n",
    "import matplotlib.pyplot as plt\n",
    "\n",
    "\n",
    "df = sns.load_dataset('iris')\n",
    "print(\"Dataset loaded successfully.\\n\")\n",
    "\n",
    "print(df.head())\n",
    "print(df.describe())\n",
    "print(df.isnull().sum())\n",
    "\n",
    "\n",
    "plt.scatter(df['sepal_length'], df['sepal_width'], c='green')\n",
    "plt.xlabel('Sepal Length')\n",
    "plt.ylabel('Sepal Width')\n",
    "plt.title('Sepal Length vs Width')\n",
    "plt.show()\n"
   ]
  },
  {
   "cell_type": "code",
   "execution_count": null,
   "id": "6c9d2322",
   "metadata": {},
   "outputs": [],
   "source": []
  }
 ],
 "metadata": {
  "kernelspec": {
   "display_name": "base",
   "language": "python",
   "name": "python3"
  },
  "language_info": {
   "codemirror_mode": {
    "name": "ipython",
    "version": 3
   },
   "file_extension": ".py",
   "mimetype": "text/x-python",
   "name": "python",
   "nbconvert_exporter": "python",
   "pygments_lexer": "ipython3",
   "version": "3.9.12"
  }
 },
 "nbformat": 4,
 "nbformat_minor": 5
}
